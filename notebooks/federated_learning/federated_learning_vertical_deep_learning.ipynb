{
 "cells": [
  {
   "cell_type": "markdown",
   "metadata": {},
   "source": [
    "# Federated learning: deep learning for vertically partitioned data \n",
    "\n",
    "In this notebook, we provide a simple example of how to perform a **vertical** federated learning experiment with the help of the Sherpa.ai Federated Learning framework. \n",
    "As opposed to the horizontal federated learning paradigm, in a vertical federated learning setting (see e.g. [Federated Machine Learning: Concept and Applications](https://arxiv.org/abs/1902.04885)) the different nodes possess the same samples, but different features. \n",
    "A practical example being that of a local on-line shop and an insurance company: both entities might have matching customers (samples), but the information (features) each entity possesses about the customers is of different nature. \n",
    "We are going to use a synthetic dataset and a neural network model.\n"
   ]
  },
  {
   "cell_type": "markdown",
   "metadata": {},
   "source": [
    "## The data\n",
    "We use `sklearn` module for generating synthetic databases. \n",
    "Moreover, in order to simulate a vertically partitioned training data, we randomly split the features of the created dataset among the clients:"
   ]
  },
  {
   "cell_type": "code",
   "execution_count": 1,
   "metadata": {},
   "outputs": [],
   "source": [
    "import numpy as np\n",
    "import pandas as pd\n",
    "import matplotlib.pyplot as plt\n",
    "\n",
    "from sklearn import preprocessing\n",
    "from sklearn.metrics import roc_curve, auc\n",
    "from sklearn.linear_model import LogisticRegression\n",
    "from sklearn.neural_network import MLPClassifier\n",
    "from sklearn.datasets import make_classification\n",
    "from shfl.private.reproducibility import Reproducibility\n",
    "\n",
    "# Comment to turn off reproducibility:\n",
    "Reproducibility(567)\n",
    "\n",
    "# Create dataset\n",
    "n_features = 20\n",
    "n_classes = 2\n",
    "n_samples = 15000\n",
    "\n",
    "data, labels = make_classification(\n",
    "    n_samples=n_samples, n_features=n_features, \n",
    "    n_redundant=0, n_repeated=0, n_classes=n_classes, \n",
    "    n_clusters_per_class=1, flip_y=0.1, class_sep=0.4, random_state=123)"
   ]
  },
  {
   "cell_type": "markdown",
   "metadata": {},
   "source": [
    "**Vertical split of the dataset.** In the vertical FL setting, the database is split along the columns (i.e., vertically) among the nodes. \n",
    "We can use a method provided by the Sherpa FL Framework to randomly split a dataset vertically into the desired number of parts: "
   ]
  },
  {
   "cell_type": "code",
   "execution_count": 2,
   "metadata": {},
   "outputs": [
    {
     "name": "stdout",
     "output_type": "stream",
     "text": [
      "\n",
      "Client train data shape: (12000, 10)\n",
      "Client train data shape: (12000, 10)\n"
     ]
    }
   ],
   "source": [
    "from shfl.data_base.data_base import vertical_split\n",
    "\n",
    "# Create a vertically split dataset: split the features among clients\n",
    "M = 2  # number of clients\n",
    "train_data, train_labels, test_data, test_labels = \\\n",
    "    vertical_split(data=data, labels=labels)\n",
    "\n",
    "for item in train_data:\n",
    "    print(\"Client train data shape: \" + str(item.shape))"
   ]
  },
  {
   "cell_type": "markdown",
   "metadata": {},
   "source": [
    "**Wrap into NodesFederation.** At this point, we assign the data to a federated network of clients. \n",
    "Since the clients actually don't possess the labels (only the server does), we assign the client's labels to `None`. \n",
    "And since we already performed the split of data for each client, we just need convert it to federated data:"
   ]
  },
  {
   "cell_type": "code",
   "execution_count": 3,
   "metadata": {},
   "outputs": [
    {
     "name": "stdout",
     "output_type": "stream",
     "text": [
      "<shfl.private.federated_operation.NodesFederation object at 0x7f60bc57ef28>\n"
     ]
    }
   ],
   "source": [
    "# Convert to federated data: \n",
    "from shfl.private.federated_operation import federate_list\n",
    "\n",
    "federated_data = federate_list(train_data)\n",
    "print(federated_data)"
   ]
  },
  {
   "cell_type": "markdown",
   "metadata": {},
   "source": [
    "In order to visually check everything went fine with the data assignment, we can configure data access to node (otherwise protected by default):"
   ]
  },
  {
   "cell_type": "code",
   "execution_count": 4,
   "metadata": {},
   "outputs": [
    {
     "name": "stdout",
     "output_type": "stream",
     "text": [
      "float64\n"
     ]
    }
   ],
   "source": [
    "# Check federated data:\n",
    "from shfl.private.data import UnprotectedAccess\n",
    "\n",
    "federated_data.configure_data_access(UnprotectedAccess());\n",
    "federated_data[0].query()\n",
    "federated_data[0].query().data.shape\n",
    "#federated_data[0].query().label\n",
    "print(federated_data[0].query().data.dtype)"
   ]
  },
  {
   "cell_type": "markdown",
   "metadata": {},
   "source": [
    "## The model:\n",
    "\n",
    "**Horizontal Vs Vertical Federated Learning.** Both in the  Federated Government is interpreted as follows: \n",
    " - The Federated Government is intended as a *Coordinator*: it defines and schedules the federated computations, but does not have any other function (no data, no model). It is what a user can customize for the specific case problem.\n",
    " - The Federated Data is composed by nodes that can have multiple functions: train, store data, aggregate, make auxiliary computations, predictions etc.\n",
    " - In particular, the Server is itself a *node* that can interact with the Federated Data: it might aggregate, but might also contain data and train on them\n",
    "\n",
    "In Horizontal FL (see e.g. the [basic concepts notebook](./federated_learning_basic_concepts.ipynb)), all nodes have typically the same model, and the server node has also the aggregation function in its model as an attribute but do not train and does not possess any data.\n",
    "Instead in a Vertical FL architecture, the client nodes might have a *different model* with respect each other and with respect the server node.\n",
    "The latter in turn can aggregate, train and might possess its own data (i.e. the labels in this case).\n",
    "\n",
    "Note that the distinction between client and server is *only virtual* and not necessarily physical, since a single node might be both client and server, allowing multiple roles for the same physical node.   "
   ]
  },
  {
   "cell_type": "markdown",
   "metadata": {},
   "source": [
    "**Define the server node.** We said that in the Vertical FL, each node, including the server, is allowed to possess a different model and different methods for interacting with the clients.\n",
    "We here define the server model with specific functions needed for the present Vertical FL architecture.\n",
    "The server is assigned a linear model, along with the data to train on (only labels, in this specific example): "
   ]
  },
  {
   "cell_type": "code",
   "execution_count": 5,
   "metadata": {},
   "outputs": [],
   "source": [
    "import torch\n",
    "import torch.nn as nn\n",
    "from sklearn.metrics import roc_auc_score\n",
    "\n",
    "from shfl.model.vertical_deep_learning_model import VerticalNeuralNetServer\n",
    "from shfl.private.federated_operation import VerticalServerDataNode\n",
    "from shfl.private.data import LabeledData\n",
    "\n",
    "n_embeddings = 2\n",
    "\n",
    "model_server = torch.nn.Sequential(\n",
    "    torch.nn.Linear(n_embeddings, 1, bias=True),\n",
    "    torch.nn.Sigmoid())\n",
    "\n",
    "loss_server = torch.nn.BCELoss(reduction=\"mean\")\n",
    "optimizer_server = torch.optim.SGD(params=model_server.parameters(), lr=0.001)\n",
    "\n",
    "\n",
    "def roc_auc(y_pred, y_true):\n",
    "    \"\"\"\n",
    "    # Arguments:\n",
    "        y_pred: Predictions \n",
    "        y_true: True labels\n",
    "    \"\"\"\n",
    "    return roc_auc_score(y_true, y_pred)\n",
    "\n",
    "model = VerticalNeuralNetServer(model_server, loss_server, optimizer_server, \n",
    "                                      metrics={\"roc_auc\": roc_auc})"
   ]
  },
  {
   "cell_type": "code",
   "execution_count": 6,
   "metadata": {},
   "outputs": [],
   "source": [
    "from shfl.federated_aggregator import FedSumAggregator\n",
    "\n",
    "# Create the server node: \n",
    "server_node = VerticalServerDataNode(\n",
    "    federated_data=federated_data, \n",
    "    model=model,\n",
    "    aggregator=FedSumAggregator(),\n",
    "    data=LabeledData(data=None, label=train_labels.reshape(-1,1).astype(np.float32)))"
   ]
  },
  {
   "cell_type": "code",
   "execution_count": 7,
   "metadata": {},
   "outputs": [
    {
     "name": "stdout",
     "output_type": "stream",
     "text": [
      "Parameter containing:\n",
      "tensor([[-0.6730,  0.2561]], requires_grad=True)\n",
      "Parameter containing:\n",
      "tensor([0.6738], requires_grad=True)\n"
     ]
    }
   ],
   "source": [
    "for layer in model_server.parameters():\n",
    "    print(layer)"
   ]
  },
  {
   "cell_type": "markdown",
   "metadata": {},
   "source": [
    "**Define specific data access needed for the Vertical FL round.** The specific Vertical FL architecture requires the computation of the Loss and the exchange of convergence parameters. \n",
    "Namely, the clients send the computed embeddings to the server, and the server sends the computed gradients to update the clients. \n",
    "Therefore, we define ad-hoc access definitions for these methods, and we assign them to server and clients: "
   ]
  },
  {
   "cell_type": "code",
   "execution_count": 8,
   "metadata": {},
   "outputs": [
    {
     "name": "stdout",
     "output_type": "stream",
     "text": [
      "<__main__.QueryMetaParameters object at 0x7f5fb6328080>\n",
      "<__main__.QueryMetaParameters object at 0x7f5fb6327e10>\n",
      "{'140053453467432': <__main__.TrainEvaluation object at 0x7f5fb63280f0>}\n"
     ]
    }
   ],
   "source": [
    "from shfl.private.data import DataAccessDefinition\n",
    "\n",
    "class TrainEvaluation(DataAccessDefinition):\n",
    "    \"\"\"Evaluate collaborative model on batch train data.\"\"\"\n",
    "    def apply(self, data, **kwargs): \n",
    "        \n",
    "        server_model = kwargs.get(\"server_model\")\n",
    "        embeddings, embeddings_indices = kwargs.get(\"meta_params\")\n",
    "        labels = data.label[embeddings_indices]\n",
    "    \n",
    "        evaluation = server_model.evaluate(embeddings, labels)\n",
    "        \n",
    "        return evaluation\n",
    "    \n",
    "    \n",
    "class QueryMetaParameters(DataAccessDefinition):\n",
    "    \"\"\"Returns embeddings (or their gradients) as computed by the local model.\"\"\"\n",
    "    def apply(self, model, **kwargs):\n",
    "        return model.get_meta_params(**kwargs)\n",
    "\n",
    "    \n",
    "# Configure data access to nodes and server\n",
    "federated_data.configure_model_access(QueryMetaParameters())\n",
    "server_node.configure_model_access(QueryMetaParameters())\n",
    "server_node.configure_data_access(TrainEvaluation())   \n",
    "\n",
    "print(federated_data[1]._model_access_policy)\n",
    "print(server_node._model_access_policy)\n",
    "print(server_node._private_data_access_policies)"
   ]
  },
  {
   "cell_type": "markdown",
   "metadata": {},
   "source": [
    "## Run the federated learning experiment\n",
    "\n",
    "We are almost done: we only need to specify which specific model to use for each client node, and the server node. \n",
    "Namely, the clients will run a neural network model, but of course they will have different input size since they possess different number of features. \n",
    "We first don't use hidden layers for the clients model, resulting in a *linear* model (`layer_dims=None` parameter):"
   ]
  },
  {
   "cell_type": "code",
   "execution_count": 9,
   "metadata": {},
   "outputs": [],
   "source": [
    "from shfl.model.vertical_deep_learning_model import VerticalNeuralNetClient\n",
    "\n",
    "model0 = nn.Sequential(\n",
    "    nn.Linear(train_data[0].shape[1], n_embeddings, bias=True),\n",
    ")\n",
    "\n",
    "model1 = nn.Sequential(\n",
    "    nn.Linear(train_data[1].shape[1], n_embeddings, bias=True),\n",
    ")\n",
    "\n",
    "optimizer0 = torch.optim.SGD(params=model0.parameters(), lr=0.001)\n",
    "optimizer1 = torch.optim.SGD(params=model1.parameters(), lr=0.001)\n",
    "\n",
    "batch_size = 32\n",
    "model_nodes = [VerticalNeuralNetClient(model=model0, loss=None, optimizer=optimizer0, batch_size=batch_size),\n",
    "               VerticalNeuralNetClient(model=model1, loss=None, optimizer=optimizer1, batch_size=batch_size)]"
   ]
  },
  {
   "cell_type": "code",
   "execution_count": 10,
   "metadata": {},
   "outputs": [
    {
     "name": "stdout",
     "output_type": "stream",
     "text": [
      "Parameter containing:\n",
      "tensor([[-0.3068,  0.2944, -0.2563, -0.3143, -0.2763, -0.0413,  0.2372, -0.1069,\n",
      "         -0.2783, -0.1169],\n",
      "        [ 0.0033,  0.0914, -0.1566, -0.0794, -0.0943, -0.0910,  0.2255,  0.2800,\n",
      "         -0.2242, -0.1920]], requires_grad=True)\n",
      "Parameter containing:\n",
      "tensor([ 0.0059, -0.2826], requires_grad=True)\n",
      "Parameter containing:\n",
      "tensor([[-0.1106, -0.3151,  0.0279, -0.2343, -0.3058, -0.1020, -0.2026, -0.1507,\n",
      "         -0.1658, -0.0334],\n",
      "        [-0.2455,  0.2706, -0.2163, -0.1849, -0.1603,  0.2718,  0.3025, -0.2665,\n",
      "          0.0953,  0.3116]], requires_grad=True)\n",
      "Parameter containing:\n",
      "tensor([0.0902, 0.0599], requires_grad=True)\n"
     ]
    }
   ],
   "source": [
    "for layer in model0.parameters():\n",
    "    print(layer)\n",
    "    \n",
    "for layer in model1.parameters():\n",
    "    print(layer)"
   ]
  },
  {
   "cell_type": "markdown",
   "metadata": {},
   "source": [
    "Pytorch models expect by default input data to be `float`, and if they are in double precision it raises an error. \n",
    "We have two options: either convert the node models just created from the default float to double, or convert the input data to float. \n",
    "If we are not concerned about having double precision, but rather we prefer faster computation, we opt for the second strategy. We apply a federated transformation: "
   ]
  },
  {
   "cell_type": "code",
   "execution_count": 11,
   "metadata": {},
   "outputs": [],
   "source": [
    "from shfl.private import FederatedTransformation\n",
    "\n",
    "class NumpyToFloat(FederatedTransformation):\n",
    "    \n",
    "    def apply(self, labeled_data):\n",
    "        if labeled_data.data is not None:\n",
    "            labeled_data.data = labeled_data.data.astype(np.float32)\n",
    "        \n",
    "federated_data.apply_data_transformation(NumpyToFloat());"
   ]
  },
  {
   "cell_type": "code",
   "execution_count": 12,
   "metadata": {},
   "outputs": [],
   "source": [
    "from shfl.federated_government.vertical_federated_government import VerticalFederatedGovernment\n",
    "\n",
    "\n",
    "# Create federated government:\n",
    "federated_government = VerticalFederatedGovernment(model_nodes, \n",
    "                                                   federated_data, \n",
    "                                                   server_node=server_node)"
   ]
  },
  {
   "cell_type": "code",
   "execution_count": 13,
   "metadata": {},
   "outputs": [
    {
     "name": "stdout",
     "output_type": "stream",
     "text": [
      "Round 0\n",
      "Collaborative model train batch evaluation: [0.7323265075683594, 0.6349206349206349]\n",
      "Collaborative model test evaluation (global, local): ([0.7327157258987427, 0.5858762509277866], None)\n",
      "\n",
      "\n"
     ]
    },
    {
     "name": "stderr",
     "output_type": "stream",
     "text": [
      "/home/goran/Developer/frameworks/python/venv/SherpaFL_py37/lib/python3.7/site-packages/torch/autograd/__init__.py:132: UserWarning: CUDA initialization: Found no NVIDIA driver on your system. Please check that you have an NVIDIA GPU and installed a driver from http://www.nvidia.com/Download/index.aspx (Triggered internally at  /pytorch/c10/cuda/CUDAFunctions.cpp:100.)\n",
      "  allow_unreachable=True)  # allow_unreachable flag\n"
     ]
    },
    {
     "name": "stdout",
     "output_type": "stream",
     "text": [
      "Round 1000\n",
      "Collaborative model train batch evaluation: [0.7177841067314148, 0.5595238095238095]\n",
      "Collaborative model test evaluation (global, local): ([0.676876962184906, 0.6478464007656215], None)\n",
      "\n",
      "\n",
      "Round 2000\n",
      "Collaborative model train batch evaluation: [0.6325193047523499, 0.7374999999999999]\n",
      "Collaborative model test evaluation (global, local): ([0.6373811960220337, 0.7028921152470102], None)\n",
      "\n",
      "\n",
      "Round 3000\n",
      "Collaborative model train batch evaluation: [0.5903535485267639, 0.7936507936507937]\n",
      "Collaborative model test evaluation (global, local): ([0.6050798296928406, 0.7483731212457713], None)\n",
      "\n",
      "\n",
      "Round 4000\n",
      "Collaborative model train batch evaluation: [0.6130919456481934, 0.7103174603174603]\n",
      "Collaborative model test evaluation (global, local): ([0.5762856602668762, 0.7841824647974701], None)\n",
      "\n",
      "\n",
      "Round 5000\n",
      "Collaborative model train batch evaluation: [0.5424725413322449, 0.8458333333333333]\n",
      "Collaborative model test evaluation (global, local): ([0.550435483455658, 0.81034549465875], None)\n",
      "\n",
      "\n",
      "Round 6000\n",
      "Collaborative model train batch evaluation: [0.5157128572463989, 0.9007936507936508]\n",
      "Collaborative model test evaluation (global, local): ([0.5281479954719543, 0.8286908790281731], None)\n",
      "\n",
      "\n",
      "Round 7000\n",
      "Collaborative model train batch evaluation: [0.5409888625144958, 0.7619047619047619]\n",
      "Collaborative model test evaluation (global, local): ([0.5095996260643005, 0.8411113250684528], None)\n",
      "\n",
      "\n",
      "Round 8000\n",
      "Collaborative model train batch evaluation: [0.5046865940093994, 0.8624999999999999]\n",
      "Collaborative model test evaluation (global, local): ([0.49497225880622864, 0.8492651751221076], None)\n",
      "\n",
      "\n",
      "Round 9000\n",
      "Collaborative model train batch evaluation: [0.47491100430488586, 0.9246031746031746]\n",
      "Collaborative model test evaluation (global, local): ([0.48401951789855957, 0.8542931232380945], None)\n",
      "\n",
      "\n",
      "Round 10000\n",
      "Collaborative model train batch evaluation: [0.49674999713897705, 0.7936507936507937]\n",
      "Collaborative model test evaluation (global, local): ([0.4759976267814636, 0.8573483154861781], None)\n",
      "\n",
      "\n"
     ]
    }
   ],
   "source": [
    "# Run training:\n",
    "federated_government.run_rounds(n_rounds=10001, \n",
    "                                test_data=test_data, \n",
    "                                test_label=test_labels.reshape(-1,1), \n",
    "                                eval_freq=1000)"
   ]
  },
  {
   "cell_type": "markdown",
   "metadata": {},
   "source": [
    "**Comparison to Centralized training.** As reference, we can compare the performance of the collaborative model to the centralized training:  "
   ]
  },
  {
   "cell_type": "code",
   "execution_count": 14,
   "metadata": {},
   "outputs": [],
   "source": [
    "def plot_roc(y_test, y_prediction, save_path=None):\n",
    "    fpr, tpr, _ = roc_curve(y_test, y_prediction)\n",
    "    roc_auc = auc(fpr, tpr)\n",
    "    plt.rcParams.update({'font.size': 15})\n",
    "    plt.figure(figsize=(8, 7))\n",
    "    lw = 2\n",
    "    plt.plot(fpr, tpr, color='darkorange',\n",
    "             lw=lw, label='ROC curve (area = %0.2f)' % roc_auc)\n",
    "    plt.plot([0, 1], [0, 1], color='navy', lw=lw, linestyle='--')\n",
    "    plt.xlim([0.0, 1.0])\n",
    "    plt.ylim([0.0, 1.05])\n",
    "    plt.xlabel('False Positive Rate')\n",
    "    plt.ylabel('True Positive Rate')\n",
    "    plt.legend(loc=\"lower right\")\n",
    "    if save_path is not None: \n",
    "        plt.savefig(save_path, bbox_inches = \"tight\")\n",
    "    plt.show()"
   ]
  },
  {
   "cell_type": "code",
   "execution_count": 15,
   "metadata": {},
   "outputs": [
    {
     "data": {
      "image/png": "[encoded data removed]",
      "text/plain": [
       "<Figure size 576x504 with 1 Axes>"
      ]
     },
     "metadata": {
      "needs_background": "light"
     },
     "output_type": "display_data"
    }
   ],
   "source": [
    "y_prediction = federated_government._server.predict_collaborative_model(test_data)\n",
    "plot_roc(test_labels, y_prediction)"
   ]
  },
  {
   "cell_type": "code",
   "execution_count": 16,
   "metadata": {},
   "outputs": [
    {
     "data": {
      "image/png": "[encoded data removed]",
      "text/plain": [
       "<Figure size 576x504 with 1 Axes>"
      ]
     },
     "metadata": {
      "needs_background": "light"
     },
     "output_type": "display_data"
    }
   ],
   "source": [
    "# Linear model Benchmark on centralized data using sk-learn:\n",
    "\n",
    "centralized_train_data = np.concatenate(train_data, axis=1)\n",
    "centralized_test_data = np.concatenate(test_data, axis=1)\n",
    "\n",
    "clf_linear = LogisticRegression(random_state=123).fit(centralized_train_data, train_labels)\n",
    "\n",
    "y_prediction = clf_linear.predict_proba(centralized_test_data)[:, 1]\n",
    "plot_roc(test_labels, y_prediction)"
   ]
  },
  {
   "cell_type": "markdown",
   "metadata": {},
   "source": [
    "**Non-linear model:**\n",
    "\n",
    "We now add a hidden layer in the clients' neural network model, resulting in a *non-linear* model. \n",
    "Namely, we will use a hidden layer in the clients' models: "
   ]
  },
  {
   "cell_type": "code",
   "execution_count": 17,
   "metadata": {},
   "outputs": [],
   "source": [
    "n_hidden_neurons = 3\n",
    "\n",
    "model0 = nn.Sequential(\n",
    "    nn.Linear(train_data[0].shape[1], n_hidden_neurons, bias=True),\n",
    "    nn.ReLU(),\n",
    "    nn.Linear(n_hidden_neurons, n_embeddings, bias=True)\n",
    ")\n",
    "\n",
    "model1 = nn.Sequential(\n",
    "    nn.Linear(train_data[1].shape[1], n_hidden_neurons, bias=True),\n",
    "    nn.ReLU(),\n",
    "    nn.Linear(n_hidden_neurons, n_embeddings, bias=True)\n",
    ")\n",
    "\n",
    "optimizer0 = torch.optim.SGD(params=model0.parameters(), lr=0.001)\n",
    "optimizer1 = torch.optim.SGD(params=model1.parameters(), lr=0.001)\n",
    "\n",
    "batch_size = 32\n",
    "model_nodes = [VerticalNeuralNetClient(model=model0, loss=None, optimizer=optimizer0, batch_size=batch_size),\n",
    "               VerticalNeuralNetClient(model=model1, loss=None, optimizer=optimizer1, batch_size=batch_size)]"
   ]
  },
  {
   "cell_type": "code",
   "execution_count": 18,
   "metadata": {},
   "outputs": [],
   "source": [
    "from shfl.federated_government.vertical_federated_government import VerticalFederatedGovernment\n",
    "\n",
    "\n",
    "# Create federated government and run training:\n",
    "federated_government = VerticalFederatedGovernment(model_nodes, \n",
    "                                                   federated_data, \n",
    "                                                   server_node=server_node)"
   ]
  },
  {
   "cell_type": "code",
   "execution_count": 19,
   "metadata": {},
   "outputs": [
    {
     "name": "stdout",
     "output_type": "stream",
     "text": [
      "Round 0\n",
      "Collaborative model train batch evaluation: [0.6722579598426819, 0.5634920634920635]\n",
      "Collaborative model test evaluation (global, local): ([0.7264511585235596, 0.49548947782006025], None)\n",
      "\n",
      "\n",
      "Round 10000\n",
      "Collaborative model train batch evaluation: [0.6164455413818359, 0.7261904761904763]\n",
      "Collaborative model test evaluation (global, local): ([0.5963339805603027, 0.7730966085587185], None)\n",
      "\n",
      "\n",
      "Round 20000\n",
      "Collaborative model train batch evaluation: [0.42314228415489197, 0.8916666666666667]\n",
      "Collaborative model test evaluation (global, local): ([0.4026845693588257, 0.8944451090463487], None)\n",
      "\n",
      "\n",
      "Round 30000\n",
      "Collaborative model train batch evaluation: [0.352985143661499, 0.9325396825396826]\n",
      "Collaborative model test evaluation (global, local): ([0.367821604013443, 0.9188977649067365], None)\n",
      "\n",
      "\n",
      "Round 40000\n",
      "Collaborative model train batch evaluation: [0.3459092080593109, 0.9285714285714286]\n",
      "Collaborative model test evaluation (global, local): ([0.3596789538860321, 0.9265353008119162], None)\n",
      "\n",
      "\n",
      "Round 50000\n",
      "Collaborative model train batch evaluation: [0.28860586881637573, 0.9666666666666668]\n",
      "Collaborative model test evaluation (global, local): ([0.3550621271133423, 0.9301541693590456], None)\n",
      "\n",
      "\n",
      "Round 60000\n",
      "Collaborative model train batch evaluation: [0.3622843027114868, 0.9404761904761905]\n",
      "Collaborative model test evaluation (global, local): ([0.3509892225265503, 0.9327635347907237], None)\n",
      "\n",
      "\n",
      "Round 70000\n",
      "Collaborative model train batch evaluation: [0.3471751809120178, 0.9285714285714286]\n",
      "Collaborative model test evaluation (global, local): ([0.34913480281829834, 0.9339602629333136], None)\n",
      "\n",
      "\n",
      "Round 80000\n",
      "Collaborative model train batch evaluation: [0.2605626583099365, 0.9750000000000001]\n",
      "Collaborative model test evaluation (global, local): ([0.3483322262763977, 0.9343600617442347], None)\n",
      "\n",
      "\n",
      "Round 90000\n",
      "Collaborative model train batch evaluation: [0.3759947419166565, 0.9285714285714286]\n",
      "Collaborative model test evaluation (global, local): ([0.3477404713630676, 0.9347207256326183], None)\n",
      "\n",
      "\n",
      "Round 100000\n",
      "Collaborative model train batch evaluation: [0.34769198298454285, 0.9285714285714286]\n",
      "Collaborative model test evaluation (global, local): ([0.34754520654678345, 0.9348145605037019], None)\n",
      "\n",
      "\n",
      "Round 110000\n",
      "Collaborative model train batch evaluation: [0.2552841901779175, 0.9791666666666666]\n",
      "Collaborative model test evaluation (global, local): ([0.3469943702220917, 0.9348476917733501], None)\n",
      "\n",
      "\n",
      "Round 120000\n",
      "Collaborative model train batch evaluation: [0.37870609760284424, 0.9246031746031746]\n",
      "Collaborative model test evaluation (global, local): ([0.34651803970336914, 0.9349626506083034], None)\n",
      "\n",
      "\n",
      "Round 130000\n",
      "Collaborative model train batch evaluation: [0.354068398475647, 0.9285714285714286]\n",
      "Collaborative model test evaluation (global, local): ([0.34632158279418945, 0.9350736070079974], None)\n",
      "\n",
      "\n",
      "Round 140000\n",
      "Collaborative model train batch evaluation: [0.2511636018753052, 0.9750000000000001]\n",
      "Collaborative model test evaluation (global, local): ([0.34574925899505615, 0.9350965098319821], None)\n",
      "\n",
      "\n",
      "Round 150000\n",
      "Collaborative model train batch evaluation: [0.3792811334133148, 0.9285714285714286]\n",
      "Collaborative model test evaluation (global, local): ([0.345347136259079, 0.9351278622415149], None)\n",
      "\n",
      "\n"
     ]
    }
   ],
   "source": [
    "federated_government.run_rounds(n_rounds=150001, \n",
    "                                test_data=test_data, \n",
    "                                test_label=test_labels.reshape(-1,1), \n",
    "                                eval_freq=10000)"
   ]
  },
  {
   "cell_type": "markdown",
   "metadata": {},
   "source": [
    "As before, we can compare the performance to the analogous centralized model using a hidden layer: "
   ]
  },
  {
   "cell_type": "code",
   "execution_count": 20,
   "metadata": {},
   "outputs": [
    {
     "data": {
      "image/png": "[encoded data removed]",
      "text/plain": [
       "<Figure size 576x504 with 1 Axes>"
      ]
     },
     "metadata": {
      "needs_background": "light"
     },
     "output_type": "display_data"
    }
   ],
   "source": [
    "y_prediction = federated_government._server.predict_collaborative_model(test_data)\n",
    "plot_roc(test_labels, y_prediction)"
   ]
  },
  {
   "cell_type": "code",
   "execution_count": 21,
   "metadata": {},
   "outputs": [
    {
     "data": {
      "image/png": "[encoded data removed]",
      "text/plain": [
       "<Figure size 576x504 with 1 Axes>"
      ]
     },
     "metadata": {
      "needs_background": "light"
     },
     "output_type": "display_data"
    }
   ],
   "source": [
    "# Non-linear benchmark\n",
    "clf_non_linear = MLPClassifier(hidden_layer_sizes=(3,), max_iter=10000, \n",
    "                               shuffle=False, random_state=3221)\n",
    "clf_non_linear.fit(centralized_train_data, train_labels)\n",
    "\n",
    "y_prediction = clf_non_linear.predict_proba(centralized_test_data)[:, 1]\n",
    "plot_roc(test_labels, y_prediction)"
   ]
  }
 ],
 "metadata": {
  "kernelspec": {
   "display_name": "SherpaFL_py37",
   "language": "python",
   "name": "sherpafl_py37"
  },
  "language_info": {
   "codemirror_mode": {
    "name": "ipython",
    "version": 3
   },
   "file_extension": ".py",
   "mimetype": "text/x-python",
   "name": "python",
   "nbconvert_exporter": "python",
   "pygments_lexer": "ipython3",
   "version": "3.7.3"
  }
 },
 "nbformat": 4,
 "nbformat_minor": 4
}
