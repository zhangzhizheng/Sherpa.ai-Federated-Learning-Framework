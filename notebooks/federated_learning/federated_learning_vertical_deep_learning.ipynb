{
 "cells": [
  {
   "cell_type": "markdown",
   "metadata": {},
   "source": [
    "# Federated learning: deep learning for vertically partitioned data \n",
    "\n",
    "In this notebook, we provide a simple example of how to perform a **vertical** federated learning experiment with the help of the Sherpa.ai Federated Learning framework. \n",
    "As opposed to the horizontal federated learning paradigm, in a vertical federated learning setting (see e.g. [Federated Machine Learning: Concept and Applications](https://arxiv.org/abs/1902.04885)) the different nodes possess the same samples, but different features. \n",
    "A practical example being that of a local on-line shop and an insurance company: both entities might have matching customers (samples), but the information (features) each entity possesses about the customers is of different nature. \n",
    "We are going to use a synthetic dataset and a neural network model.\n"
   ]
  },
  {
   "cell_type": "markdown",
   "metadata": {},
   "source": [
    "## The data\n",
    "We use `sklearn` module for generating synthetic databases. \n",
    "Moreover, in order to simulate a vertically partitioned training data, we randomly split the features of the created dataset among the clients:"
   ]
  },
  {
   "cell_type": "code",
   "execution_count": 1,
   "metadata": {},
   "outputs": [],
   "source": [
    "import numpy as np\n",
    "import pandas as pd\n",
    "import matplotlib.pyplot as plt\n",
    "\n",
    "from sklearn import preprocessing\n",
    "from sklearn.metrics import roc_curve, auc\n",
    "from sklearn.linear_model import LogisticRegression\n",
    "from sklearn.neural_network import MLPClassifier\n",
    "from sklearn.datasets import make_classification\n",
    "from shfl.private.reproducibility import Reproducibility\n",
    "\n",
    "# Comment to turn off reproducibility:\n",
    "Reproducibility(568)\n",
    "\n",
    "# Create dataset\n",
    "n_features = 20\n",
    "n_classes = 2\n",
    "n_samples = 15000\n",
    "\n",
    "data, labels = make_classification(\n",
    "    n_samples=n_samples, n_features=n_features, \n",
    "    n_redundant=0, n_repeated=0, n_classes=n_classes, \n",
    "    n_clusters_per_class=1, flip_y=0.1, class_sep=0.4, random_state=123)"
   ]
  },
  {
   "cell_type": "markdown",
   "metadata": {},
   "source": [
    "**Vertical split of the dataset.** In the vertical FL setting, the database is split along the columns (i.e., vertically) among the nodes. \n",
    "We can use a method provided by the Sherpa FL Framework to randomly split a dataset vertically into the desired number of parts: "
   ]
  },
  {
   "cell_type": "code",
   "execution_count": 2,
   "metadata": {},
   "outputs": [
    {
     "name": "stdout",
     "output_type": "stream",
     "text": [
      "Client train data shape: (12000, 11)\n",
      "Client train data shape: (12000, 9)\n"
     ]
    }
   ],
   "source": [
    "from shfl.data_base.data_base import vertical_split\n",
    "\n",
    "# Create a vertically split dataset: split the features among clients\n",
    "M = 2  # number of clients\n",
    "train_data, train_labels, test_data, test_labels = \\\n",
    "    vertical_split(data=data, labels=labels)\n",
    "\n",
    "for item in train_data:\n",
    "    print(\"Client train data shape: \" + str(item.shape))"
   ]
  },
  {
   "cell_type": "markdown",
   "metadata": {},
   "source": [
    "**Wrap into FederatedData.** At this point, we assign the data to a federated network of clients. \n",
    "Since the clients actually don't possess the labels (only the server does), we assign the client's labels to `None`. \n",
    "And since we already performed the split of data for each client, we just use `PlainDataDistribution` to create the wrapper for the federated data (this class converts the data \"as is\" into a `FederatedData` object):"
   ]
  },
  {
   "cell_type": "code",
   "execution_count": 3,
   "metadata": {},
   "outputs": [
    {
     "name": "stdout",
     "output_type": "stream",
     "text": [
      "<shfl.private.federated_operation.FederatedData object at 0x7f41834544e0>\n"
     ]
    }
   ],
   "source": [
    "# Make federated data: \n",
    "from shfl.data_base.data_base import LabeledDatabase\n",
    "from shfl.data_distribution.data_distribution_plain import PlainDataDistribution\n",
    "\n",
    "clients_labels = [None] * len(train_data) \n",
    "data_base = LabeledDatabase(data=train_data, \n",
    "                            labels=clients_labels, \n",
    "                            train_percentage=1., \n",
    "                            shuffle=False) \n",
    "data_base.load_data()\n",
    "federated_data, _, _ = PlainDataDistribution(database=data_base).get_federated_data()\n",
    "print(federated_data)"
   ]
  },
  {
   "cell_type": "markdown",
   "metadata": {},
   "source": [
    "**Federated transformation.** In case we need to perform a data transformation on all the clients of the federated data, this is easily achieved by the framework's method: "
   ]
  },
  {
   "cell_type": "code",
   "execution_count": 4,
   "metadata": {},
   "outputs": [],
   "source": [
    "# Federated data operation: need to transform to tensors\n",
    "import torch\n",
    "import torch.nn as nn\n",
    "\n",
    "from shfl.private import FederatedTransformation\n",
    "\n",
    "class FromNumpyFloat(FederatedTransformation):\n",
    "    \n",
    "    def apply(self, labeled_data):\n",
    "        if labeled_data.data is not None:\n",
    "            labeled_data.data = torch.from_numpy(labeled_data.data).float()\n",
    "        \n",
    "federated_data.apply_data_transformation(FromNumpyFloat());"
   ]
  },
  {
   "cell_type": "markdown",
   "metadata": {},
   "source": [
    "In order to visually check everything went fine with the data assignment, we can configure data access to node (otherwise protected by default):"
   ]
  },
  {
   "cell_type": "code",
   "execution_count": 5,
   "metadata": {},
   "outputs": [
    {
     "data": {
      "text/plain": [
       "torch.Size([12000, 11])"
      ]
     },
     "execution_count": 5,
     "metadata": {},
     "output_type": "execute_result"
    }
   ],
   "source": [
    "# Check federated data:\n",
    "from shfl.private.data import UnprotectedAccess\n",
    "\n",
    "federated_data.configure_data_access(UnprotectedAccess());\n",
    "federated_data[0].query()\n",
    "federated_data[0].query().data.shape\n",
    "#federated_data[0].query().label"
   ]
  },
  {
   "cell_type": "markdown",
   "metadata": {},
   "source": [
    "## The model:\n",
    "\n",
    "**Horizontal Vs Vertical Federated Learning.** Both in the  Federated Government is interpreted as follows: \n",
    " - The Federated Government is intended as a *Coordinator*: it defines and schedules the federated computations, but does not have any other function (no data, no model). It is what a user can customize for the specific case problem.\n",
    " - The Federated Data is composed by nodes that can have multiple functions: train, store data, aggregate, make auxiliary computations, predictions etc.\n",
    " - In particular, the Server is itself a *node* that can interact with the Federated Data: it might aggregate, but might also contain data and train on them\n",
    "\n",
    "In Horizontal FL (see e.g. the [basic concepts notebook](./federated_learning_basic_concepts.ipynb)), all nodes have typically the same model, and the server node has also the aggregation function in its model as an attribute but do not train and does not possess any data.\n",
    "Instead in a Vertical FL architecture, the client nodes might have a *different model* with respect each other and with respect the server node.\n",
    "The latter in turn can aggregate, train and might possess its own data (i.e. the labels in this case).\n",
    "\n",
    "Note that the distinction between client and server is *only virtual* and not necessarily physical, since a single node might be both client and server, allowing multiple roles for the same physical node.   "
   ]
  },
  {
   "cell_type": "markdown",
   "metadata": {},
   "source": [
    "**Define the server node.** We said that in the Vertical FL, each node, including the server, is allowed to possess a different model and different methods for interacting with the clients.\n",
    "We here define the server model with specific functions needed for the present Vertical FL architecture.\n",
    "The server is assigned a linear model, along with the data to train on (only labels, in this specific example): "
   ]
  },
  {
   "cell_type": "code",
   "execution_count": 6,
   "metadata": {},
   "outputs": [],
   "source": [
    "from sklearn.metrics import roc_auc_score\n",
    "\n",
    "from shfl.model.vertical_deep_learning_model import VerticalNeuralNetServer\n",
    "from shfl.private.federated_operation import VerticalServerDataNode\n",
    "from shfl.private.data import LabeledData\n",
    "\n",
    "n_embeddings = 2\n",
    "\n",
    "model_server = torch.nn.Sequential(\n",
    "    torch.nn.Linear(n_embeddings, 1, bias=True),\n",
    "    torch.nn.Sigmoid())\n",
    "\n",
    "loss_server = torch.nn.BCELoss(reduction=\"mean\")\n",
    "optimizer_server = torch.optim.SGD(params=model_server.parameters(), lr=0.001)\n",
    "\n",
    "\n",
    "def roc_auc(y_pred, y_true):\n",
    "    \"\"\"\n",
    "    # Arguments:\n",
    "        y_pred: Predictions \n",
    "        y_true: True labels\n",
    "    \"\"\"\n",
    "    return roc_auc_score(y_true, y_pred)\n",
    "\n",
    "model = VerticalNeuralNetServer(model_server, loss_server, optimizer_server, \n",
    "                                      metrics={\"roc_auc\": roc_auc})\n",
    "\n",
    "\n",
    "# Create the server node: \n",
    "server_node = VerticalServerDataNode(\n",
    "    federated_data=federated_data, \n",
    "    model=model,\n",
    "    data=LabeledData(data=None, label=train_labels.reshape(-1,1)))"
   ]
  },
  {
   "cell_type": "code",
   "execution_count": 7,
   "metadata": {},
   "outputs": [
    {
     "name": "stdout",
     "output_type": "stream",
     "text": [
      "Parameter containing:\n",
      "tensor([[0.3515, 0.3290]], requires_grad=True)\n",
      "Parameter containing:\n",
      "tensor([0.2528], requires_grad=True)\n"
     ]
    }
   ],
   "source": [
    "for layer in model_server.parameters():\n",
    "    print(layer)"
   ]
  },
  {
   "cell_type": "markdown",
   "metadata": {},
   "source": [
    "**Define specific data access needed for the Vertical FL round.** The specific Vertical FL architecture requires the computation of the Loss and the exchange of convergence parameters. \n",
    "Namely, the clients send the computed embeddings to the server, and the server sends the computed gradients to update the clients. \n",
    "Therefore, we define ad-hoc access definitions for these methods, and we assign them to server and clients: "
   ]
  },
  {
   "cell_type": "code",
   "execution_count": 8,
   "metadata": {},
   "outputs": [
    {
     "name": "stdout",
     "output_type": "stream",
     "text": [
      "<__main__.QueryMetaParameters object at 0x7f417db51438>\n",
      "<__main__.QueryMetaParameters object at 0x7f417db51390>\n",
      "{'139919351956704': <__main__.TrainEvaluation object at 0x7f417db514a8>}\n"
     ]
    }
   ],
   "source": [
    "from shfl.private.data import DataAccessDefinition\n",
    "\n",
    "class TrainEvaluation(DataAccessDefinition):\n",
    "    \"\"\"Evaluate collaborative model on batch train data.\"\"\"\n",
    "    def apply(self, data, **kwargs): \n",
    "        \n",
    "        server_model = kwargs.get(\"server_model\")\n",
    "        embeddings, embeddings_indices = kwargs.get(\"meta_params\")\n",
    "        labels = data.label[embeddings_indices]\n",
    "    \n",
    "        evaluation = server_model.evaluate(embeddings, labels)\n",
    "        \n",
    "        return evaluation\n",
    "    \n",
    "    \n",
    "class QueryMetaParameters(DataAccessDefinition):\n",
    "    \"\"\"Returns embeddings (or their gradients) as computed by the local model.\"\"\"\n",
    "    def apply(self, model, **kwargs):\n",
    "        return model.get_meta_params(**kwargs)\n",
    "\n",
    "    \n",
    "# Configure data access to nodes and server\n",
    "federated_data.configure_model_access(QueryMetaParameters())\n",
    "server_node.configure_model_access(QueryMetaParameters())\n",
    "server_node.configure_data_access(TrainEvaluation())   \n",
    "\n",
    "print(federated_data[1]._model_access_policy)\n",
    "print(server_node._model_access_policy)\n",
    "print(server_node._private_data_access_policies)"
   ]
  },
  {
   "cell_type": "markdown",
   "metadata": {},
   "source": [
    "## Run the federated learning experiment\n",
    "\n",
    "We are almost done: we only need to specify which specific model to use for each client node, and the server node. \n",
    "Namely, the clients will run a neural network model, but of course they will have different input size since they possess different number of features. \n",
    "We first don't use hidden layers for the clients model, resulting in a *linear* model (`layer_dims=None` parameter):"
   ]
  },
  {
   "cell_type": "code",
   "execution_count": 9,
   "metadata": {},
   "outputs": [],
   "source": [
    "from shfl.model.vertical_deep_learning_model import VerticalNeuralNetClient\n",
    "\n",
    "model0 = nn.Sequential(\n",
    "    nn.Linear(train_data[0].shape[1], n_embeddings, bias=True),\n",
    ")\n",
    "\n",
    "model1 = nn.Sequential(\n",
    "    nn.Linear(train_data[1].shape[1], n_embeddings, bias=True),\n",
    ")\n",
    "\n",
    "optimizer0 = torch.optim.SGD(params=model0.parameters(), lr=0.001)\n",
    "optimizer1 = torch.optim.SGD(params=model1.parameters(), lr=0.001)\n",
    "\n",
    "batch_size = 32\n",
    "model_nodes = [VerticalNeuralNetClient(model=model0, loss=None, optimizer=optimizer0, batch_size=batch_size),\n",
    "               VerticalNeuralNetClient(model=model1, loss=None, optimizer=optimizer1, batch_size=batch_size)]"
   ]
  },
  {
   "cell_type": "code",
   "execution_count": 10,
   "metadata": {},
   "outputs": [
    {
     "name": "stdout",
     "output_type": "stream",
     "text": [
      "Parameter containing:\n",
      "tensor([[ 0.0460,  0.2073,  0.1491, -0.2929, -0.1053, -0.2582,  0.0743, -0.0865,\n",
      "         -0.1360,  0.1849, -0.2111],\n",
      "        [-0.1739, -0.2327,  0.0872,  0.1774,  0.1059, -0.0926, -0.1195, -0.1487,\n",
      "          0.0066, -0.0082,  0.0316]], requires_grad=True)\n",
      "Parameter containing:\n",
      "tensor([ 0.1268, -0.1403], requires_grad=True)\n",
      "Parameter containing:\n",
      "tensor([[-0.1689, -0.1785, -0.3140,  0.2298,  0.1469, -0.1861,  0.1907,  0.0487,\n",
      "         -0.3327],\n",
      "        [-0.0719, -0.0274,  0.0238, -0.0363, -0.0159, -0.2333, -0.2449, -0.1991,\n",
      "         -0.1758]], requires_grad=True)\n",
      "Parameter containing:\n",
      "tensor([ 0.0066, -0.1330], requires_grad=True)\n"
     ]
    }
   ],
   "source": [
    "for layer in model0.parameters():\n",
    "    print(layer)\n",
    "    \n",
    "for layer in model1.parameters():\n",
    "    print(layer)"
   ]
  },
  {
   "cell_type": "code",
   "execution_count": 11,
   "metadata": {},
   "outputs": [],
   "source": [
    "from shfl.federated_government.vertical_federated_government import VerticalFederatedGovernment\n",
    "\n",
    "\n",
    "# Create federated government and run training:\n",
    "federated_government = VerticalFederatedGovernment(model_nodes, \n",
    "                                                   federated_data, \n",
    "                                                   server_node=server_node)"
   ]
  },
  {
   "cell_type": "code",
   "execution_count": 12,
   "metadata": {},
   "outputs": [
    {
     "name": "stdout",
     "output_type": "stream",
     "text": [
      "Round 0\n",
      "Collaborative model train batch evaluation: [0.6753166317939758, 0.5843137254901961]\n"
     ]
    },
    {
     "name": "stderr",
     "output_type": "stream",
     "text": [
      "/home/goran/Developer/frameworks/python/venv/SherpaFL_py37/lib/python3.7/site-packages/torch/autograd/__init__.py:132: UserWarning: CUDA initialization: Found no NVIDIA driver on your system. Please check that you have an NVIDIA GPU and installed a driver from http://www.nvidia.com/Download/index.aspx (Triggered internally at  /pytorch/c10/cuda/CUDAFunctions.cpp:100.)\n",
      "  allow_unreachable=True)  # allow_unreachable flag\n"
     ]
    },
    {
     "name": "stdout",
     "output_type": "stream",
     "text": [
      "Collaborative model test evaluation: ([0.663094162940979, 0.6649570837577845], None)\n",
      "\n",
      "\n",
      "Round 1000\n",
      "Collaborative model train batch evaluation: [0.7088802456855774, 0.5647058823529412]\n",
      "Collaborative model test evaluation: ([0.6448869109153748, 0.704028597790898], None)\n",
      "\n",
      "\n",
      "Round 2000\n",
      "Collaborative model train batch evaluation: [0.5989469289779663, 0.8]\n",
      "Collaborative model test evaluation: ([0.6248701214790344, 0.7406971844882851], None)\n",
      "\n",
      "\n",
      "Round 3000\n",
      "Collaborative model train batch evaluation: [0.6275280714035034, 0.7098039215686274]\n",
      "Collaborative model test evaluation: ([0.6024484038352966, 0.7733341511241958], None)\n",
      "\n",
      "\n",
      "Round 4000\n",
      "Collaborative model train batch evaluation: [0.6383407711982727, 0.6666666666666667]\n",
      "Collaborative model test evaluation: ([0.5787290930747986, 0.8005821426476156], None)\n",
      "\n",
      "\n",
      "Round 5000\n",
      "Collaborative model train batch evaluation: [0.5135955810546875, 0.9019607843137255]\n",
      "Collaborative model test evaluation: ([0.5548705458641052, 0.8216780357374607], None)\n",
      "\n",
      "\n",
      "Round 6000\n",
      "Collaborative model train batch evaluation: [0.5769942998886108, 0.7843137254901961]\n",
      "Collaborative model test evaluation: ([0.5322116613388062, 0.8367253876062017], None)\n",
      "\n",
      "\n",
      "Round 7000\n",
      "Collaborative model train batch evaluation: [0.5605754256248474, 0.7568627450980392]\n",
      "Collaborative model test evaluation: ([0.5124866366386414, 0.8471775548408773], None)\n",
      "\n",
      "\n",
      "Round 8000\n",
      "Collaborative model train batch evaluation: [0.44299885630607605, 0.9333333333333333]\n",
      "Collaborative model test evaluation: ([0.49603891372680664, 0.854385225719167], None)\n",
      "\n",
      "\n",
      "Round 9000\n",
      "Collaborative model train batch evaluation: [0.5471323728561401, 0.819607843137255]\n",
      "Collaborative model test evaluation: ([0.48273754119873047, 0.8589692990643405], None)\n",
      "\n",
      "\n",
      "Round 10000\n",
      "Collaborative model train batch evaluation: [0.5068503022193909, 0.7960784313725491]\n",
      "Collaborative model test evaluation: ([0.4727321267127991, 0.8619911251913364], None)\n",
      "\n",
      "\n"
     ]
    }
   ],
   "source": [
    "federated_government.run_rounds(n=10001, \n",
    "                                test_data=test_data, \n",
    "                                test_label=test_labels.reshape(-1,1), \n",
    "                                eval_freq=1000)"
   ]
  },
  {
   "cell_type": "code",
   "execution_count": 13,
   "metadata": {},
   "outputs": [
    {
     "data": {
      "text/plain": [
       "1.0"
      ]
     },
     "execution_count": 13,
     "metadata": {},
     "output_type": "execute_result"
    }
   ],
   "source": [
    "pred = np.array([[0.6474936 ],  [0.55246866], [0.5951535 ], [0.45489264]])\n",
    "\n",
    "true = np.array([[1], [1],  [1], [0]])\n",
    "roc_auc_score(true, pred)"
   ]
  },
  {
   "cell_type": "markdown",
   "metadata": {},
   "source": [
    "**Comparison to Centralized training.** As reference, we can compare the performance of the collaborative model to the centralized training:  "
   ]
  },
  {
   "cell_type": "code",
   "execution_count": 14,
   "metadata": {},
   "outputs": [],
   "source": [
    "def plot_roc(y_test, y_prediction, save_path=None):\n",
    "    fpr, tpr, _ = roc_curve(y_test, y_prediction)\n",
    "    roc_auc = auc(fpr, tpr)\n",
    "    plt.rcParams.update({'font.size': 15})\n",
    "    plt.figure(figsize=(8, 7))\n",
    "    lw = 2\n",
    "    plt.plot(fpr, tpr, color='darkorange',\n",
    "             lw=lw, label='ROC curve (area = %0.2f)' % roc_auc)\n",
    "    plt.plot([0, 1], [0, 1], color='navy', lw=lw, linestyle='--')\n",
    "    plt.xlim([0.0, 1.0])\n",
    "    plt.ylim([0.0, 1.05])\n",
    "    plt.xlabel('False Positive Rate')\n",
    "    plt.ylabel('True Positive Rate')\n",
    "    plt.legend(loc=\"lower right\")\n",
    "    if save_path is not None: \n",
    "        plt.savefig(save_path, bbox_inches = \"tight\")\n",
    "    plt.show()"
   ]
  },
  {
   "cell_type": "code",
   "execution_count": 15,
   "metadata": {},
   "outputs": [
    {
     "data": {
      "image/png": "[encoded data removed]",
      "text/plain": [
       "<Figure size 576x504 with 1 Axes>"
      ]
     },
     "metadata": {
      "needs_background": "light"
     },
     "output_type": "display_data"
    }
   ],
   "source": [
    "y_prediction = federated_government._server.predict_collaborative_model(test_data)\n",
    "plot_roc(test_labels, y_prediction)"
   ]
  },
  {
   "cell_type": "code",
   "execution_count": 16,
   "metadata": {},
   "outputs": [
    {
     "data": {
      "image/png": "[encoded data removed]",
      "text/plain": [
       "<Figure size 576x504 with 1 Axes>"
      ]
     },
     "metadata": {
      "needs_background": "light"
     },
     "output_type": "display_data"
    }
   ],
   "source": [
    "# Linear model Benchmark on centralized data using sk-learn:\n",
    "#clf_linear = MLPClassifier(hidden_layer_sizes=(1,), max_iter=10000, shuffle=False, random_state=321).fit(x_train, y_train)\n",
    "\n",
    "centralized_train_data = np.concatenate(train_data, axis=1)\n",
    "centralized_test_data = np.concatenate(test_data, axis=1)\n",
    "\n",
    "clf_linear = LogisticRegression(random_state=123).fit(centralized_train_data, train_labels)\n",
    "\n",
    "y_prediction = clf_linear.predict_proba(centralized_test_data)[:, 1]\n",
    "plot_roc(test_labels, y_prediction)"
   ]
  },
  {
   "cell_type": "markdown",
   "metadata": {},
   "source": [
    "**Non-linear model:**\n",
    "\n",
    "We now add a hidden layer in the clients' neural network model, resulting in a *non-linear* model (parameter `layer_dims=[3]`): "
   ]
  },
  {
   "cell_type": "code",
   "execution_count": 17,
   "metadata": {},
   "outputs": [],
   "source": [
    "#from shfl.model.vertical_deep_learning_model import VerticalNeuralNetClient\n",
    "\n",
    "n_hidden_neurons = 3\n",
    "\n",
    "model0 = nn.Sequential(\n",
    "    nn.Linear(train_data[0].shape[1], n_hidden_neurons, bias=True),\n",
    "    nn.ReLU(),\n",
    "    nn.Linear(n_hidden_neurons, n_embeddings, bias=True)\n",
    ")\n",
    "\n",
    "model1 = nn.Sequential(\n",
    "    nn.Linear(train_data[1].shape[1], n_hidden_neurons, bias=True),\n",
    "    nn.ReLU(),\n",
    "    nn.Linear(n_hidden_neurons, n_embeddings, bias=True)\n",
    ")\n",
    "\n",
    "optimizer0 = torch.optim.SGD(params=model0.parameters(), lr=0.001)\n",
    "optimizer1 = torch.optim.SGD(params=model1.parameters(), lr=0.001)\n",
    "\n",
    "batch_size = 32\n",
    "model_nodes = [VerticalNeuralNetClient(model=model0, loss=None, optimizer=optimizer0, batch_size=batch_size),\n",
    "               VerticalNeuralNetClient(model=model1, loss=None, optimizer=optimizer1, batch_size=batch_size)]"
   ]
  },
  {
   "cell_type": "code",
   "execution_count": 18,
   "metadata": {},
   "outputs": [],
   "source": [
    "from shfl.federated_government.vertical_federated_government import VerticalFederatedGovernment\n",
    "\n",
    "\n",
    "# Create federated government and run training:\n",
    "federated_government = VerticalFederatedGovernment(model_nodes, \n",
    "                                                   federated_data, \n",
    "                                                   server_node=server_node)"
   ]
  },
  {
   "cell_type": "code",
   "execution_count": 19,
   "metadata": {},
   "outputs": [
    {
     "name": "stdout",
     "output_type": "stream",
     "text": [
      "Round 0\n",
      "Collaborative model train batch evaluation: [0.7648593783378601, 0.5450980392156863]\n",
      "Collaborative model test evaluation: ([0.7186072468757629, 0.5764265561582318], None)\n",
      "\n",
      "\n",
      "Round 10000\n",
      "Collaborative model train batch evaluation: [0.4737544059753418, 0.8156862745098039]\n",
      "Collaborative model test evaluation: ([0.4515281617641449, 0.8718059488951823], None)\n",
      "\n",
      "\n",
      "Round 20000\n",
      "Collaborative model train batch evaluation: [0.31809723377227783, 0.9490196078431372]\n",
      "Collaborative model test evaluation: ([0.40795573592185974, 0.8902040210421145], None)\n",
      "\n",
      "\n",
      "Round 30000\n",
      "Collaborative model train batch evaluation: [0.5141854286193848, 0.8823529411764707]\n",
      "Collaborative model test evaluation: ([0.38956210017204285, 0.902730443687099], None)\n",
      "\n",
      "\n",
      "Round 40000\n",
      "Collaborative model train batch evaluation: [0.4602660536766052, 0.8901960784313725]\n",
      "Collaborative model test evaluation: ([0.3798622190952301, 0.9077580796848307], None)\n",
      "\n",
      "\n",
      "Round 50000\n",
      "Collaborative model train batch evaluation: [0.30201780796051025, 0.9568627450980391]\n",
      "Collaborative model test evaluation: ([0.37299588322639465, 0.9117639215560782], None)\n",
      "\n",
      "\n",
      "Round 60000\n",
      "Collaborative model train batch evaluation: [0.46061357855796814, 0.8901960784313726]\n",
      "Collaborative model test evaluation: ([0.3675750195980072, 0.9158982099269144], None)\n",
      "\n",
      "\n",
      "Round 70000\n",
      "Collaborative model train batch evaluation: [0.4649885892868042, 0.9058823529411764]\n",
      "Collaborative model test evaluation: ([0.3627508878707886, 0.9193938214122537], None)\n",
      "\n",
      "\n",
      "Round 80000\n",
      "Collaborative model train batch evaluation: [0.280232697725296, 0.9607843137254901]\n",
      "Collaborative model test evaluation: ([0.35788288712501526, 0.9225805390664029], None)\n",
      "\n",
      "\n",
      "Round 90000\n",
      "Collaborative model train batch evaluation: [0.4114910960197449, 0.9058823529411765]\n",
      "Collaborative model test evaluation: ([0.35251468420028687, 0.925913925733923], None)\n",
      "\n",
      "\n",
      "Round 100000\n",
      "Collaborative model train batch evaluation: [0.461933970451355, 0.9176470588235294]\n",
      "Collaborative model test evaluation: ([0.3487723767757416, 0.9282119625025111], None)\n",
      "\n",
      "\n",
      "Round 110000\n",
      "Collaborative model train batch evaluation: [0.261274129152298, 0.9686274509803922]\n",
      "Collaborative model test evaluation: ([0.3460201025009155, 0.9297450981437925], None)\n",
      "\n",
      "\n",
      "Round 120000\n",
      "Collaborative model train batch evaluation: [0.3754989504814148, 0.9176470588235295]\n",
      "Collaborative model test evaluation: ([0.3447931408882141, 0.9303179961990503], None)\n",
      "\n",
      "\n",
      "Round 130000\n",
      "Collaborative model train batch evaluation: [0.46827954053878784, 0.9176470588235294]\n",
      "Collaborative model test evaluation: ([0.34419575333595276, 0.9306962244729248], None)\n",
      "\n",
      "\n",
      "Round 140000\n",
      "Collaborative model train batch evaluation: [0.25164562463760376, 0.9725490196078431]\n",
      "Collaborative model test evaluation: ([0.34320226311683655, 0.931036007687234], None)\n",
      "\n",
      "\n",
      "Round 150000\n",
      "Collaborative model train batch evaluation: [0.3640086352825165, 0.9215686274509804]\n",
      "Collaborative model test evaluation: ([0.3421592116355896, 0.9314717924375681], None)\n",
      "\n",
      "\n"
     ]
    }
   ],
   "source": [
    "federated_government.run_rounds(n=150001, \n",
    "                                test_data=test_data, \n",
    "                                test_label=test_labels.reshape(-1,1), \n",
    "                                eval_freq=10000)"
   ]
  },
  {
   "cell_type": "code",
   "execution_count": 29,
   "metadata": {},
   "outputs": [
    {
     "name": "stdout",
     "output_type": "stream",
     "text": [
      "<shfl.model.vertical_deep_learning_model.VerticalNeuralNetServer object at 0x7f417db4deb8>\n",
      "[array([[2.3163369, 1.5198019]], dtype=float32), array([0.5661466], dtype=float32)]\n",
      "[array([[-0.01249968, -0.00998871,  0.02343099,  0.01260444, -0.01731426,\n",
      "        -0.03544535,  0.00875627, -0.02318165,  0.01772114, -0.01272264,\n",
      "         0.00477158],\n",
      "       [ 0.00319104,  0.14554304, -0.20019789, -0.11322974, -0.12234511,\n",
      "         0.14015083,  0.00216873,  0.12236807, -0.157773  ,  0.10295682,\n",
      "        -0.03871047],\n",
      "       [-0.06361531,  0.17583223,  0.04567049, -0.17900583, -0.0104975 ,\n",
      "         0.16373055, -0.16250864,  0.02143923,  0.13268958,  0.0480644 ,\n",
      "        -0.22650775]], dtype=float32), array([ 0.45191023, -0.03056407, -0.30394697], dtype=float32), array([[ 0.48991108, -0.0928534 ,  0.4794815 ],\n",
      "       [ 0.25989947,  0.37519667, -0.47290254]], dtype=float32), array([0.42294413, 0.35341358], dtype=float32)]\n"
     ]
    }
   ],
   "source": [
    "print(federated_government._server._model)\n",
    "print(federated_government._server._model.get_model_params())\n",
    "print(federated_government._federated_data[0]._model.get_model_params())"
   ]
  },
  {
   "cell_type": "markdown",
   "metadata": {},
   "source": [
    "As before, we can compare the performance to the analogous centralized model using one hidden layer: "
   ]
  },
  {
   "cell_type": "code",
   "execution_count": 21,
   "metadata": {},
   "outputs": [
    {
     "data": {
      "image/png": "[encoded data removed]",
      "text/plain": [
       "<Figure size 576x504 with 1 Axes>"
      ]
     },
     "metadata": {
      "needs_background": "light"
     },
     "output_type": "display_data"
    }
   ],
   "source": [
    "y_prediction = federated_government._server.predict_collaborative_model(test_data)\n",
    "plot_roc(test_labels, y_prediction)"
   ]
  },
  {
   "cell_type": "code",
   "execution_count": 22,
   "metadata": {},
   "outputs": [
    {
     "data": {
      "image/png": "[encoded data removed]",
      "text/plain": [
       "<Figure size 576x504 with 1 Axes>"
      ]
     },
     "metadata": {
      "needs_background": "light"
     },
     "output_type": "display_data"
    }
   ],
   "source": [
    "# Non-linear benchmark\n",
    "clf_non_linear = MLPClassifier(hidden_layer_sizes=(3,), max_iter=10000, \n",
    "                               shuffle=False, random_state=3221)\n",
    "clf_non_linear.fit(centralized_train_data, train_labels)\n",
    "\n",
    "y_prediction = clf_non_linear.predict_proba(centralized_test_data)[:, 1]\n",
    "plot_roc(test_labels, y_prediction)"
   ]
  },
  {
   "cell_type": "code",
   "execution_count": null,
   "metadata": {},
   "outputs": [],
   "source": []
  }
 ],
 "metadata": {
  "kernelspec": {
   "display_name": "SherpaFL_py37",
   "language": "python",
   "name": "sherpafl_py37"
  },
  "language_info": {
   "codemirror_mode": {
    "name": "ipython",
    "version": 3
   },
   "file_extension": ".py",
   "mimetype": "text/x-python",
   "name": "python",
   "nbconvert_exporter": "python",
   "pygments_lexer": "ipython3",
   "version": "3.7.3"
  }
 },
 "nbformat": 4,
 "nbformat_minor": 4
}
